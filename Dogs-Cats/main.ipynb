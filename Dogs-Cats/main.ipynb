{
 "cells": [
  {
   "cell_type": "code",
   "execution_count": 182,
   "metadata": {},
   "outputs": [],
   "source": [
    "import torch\n",
    "import os\n",
    "from torch import nn\n",
    "from torch.utils.data import DataLoader,  Subset, random_split, Dataset\n",
    "from torchvision import transforms\n",
    "from torchvision.transforms import ToTensor, Resize\n",
    "from PIL import Image"
   ]
  },
  {
   "cell_type": "code",
   "execution_count": 183,
   "metadata": {},
   "outputs": [
    {
     "name": "stdout",
     "output_type": "stream",
     "text": [
      "Using cpu device\n"
     ]
    }
   ],
   "source": [
    "#Pytorch device check for ROCM for AMD GPU\n",
    "#https://github.com/pytorch/pytorch/issues/10670\n",
    "device = 'cuda' if torch.cuda.is_available() else 'cpu'\n",
    "\n",
    "print(f\"Using {device} device\")"
   ]
  },
  {
   "cell_type": "code",
   "execution_count": 184,
   "metadata": {},
   "outputs": [],
   "source": [
    "class CatDogDataset(Dataset):\n",
    "    def __init__(self, root_dir, transform=None):\n",
    "        self.root_dir = root_dir\n",
    "        self.transform = transform\n",
    "        self.file_list = os.listdir(root_dir)\n",
    "\n",
    "    def __len__(self):\n",
    "        return len(self.file_list)\n",
    "\n",
    "    def __getitem__(self, idx):\n",
    "        img_name = self.file_list[idx]\n",
    "        img_path = os.path.join(self.root_dir, img_name)\n",
    "        image = Image.open(img_path).convert('RGB')\n",
    "\n",
    "        if self.transform is not None:\n",
    "            image = self.transform(image)\n",
    "\n",
    "        label = str.split(img_name, '.')[0]  # Convert label to integer\n",
    "        if label == \"dog\":\n",
    "            label = torch.tensor([1, 0])  # One-hot encode as [1, 0] for dog\n",
    "        elif label == \"cat\":\n",
    "            label = torch.tensor([0, 1])  # One-hot encode as [0, 1] for cat\n",
    "        \n",
    "        try:\n",
    "            return image, label.float()\n",
    "        except Exception as e:\n",
    "            print(e)\n",
    "            print(img_name, label)\n",
    "            breakpoint()        "
   ]
  },
  {
   "cell_type": "code",
   "execution_count": 185,
   "metadata": {},
   "outputs": [],
   "source": [
    "train_path_dir = 'data/train'\n",
    "test_path_dir = 'data/test1'\n",
    "batch_size=64\n",
    "num_workers = 4\n",
    "image_size = (256, 256)  # Specify the desired image size\n",
    "learning_rate = 1e-3\n",
    "epochs = 50\n",
    "val_ratio = 0.2\n",
    "\n",
    "transform = transforms.Compose([\n",
    "    Resize(image_size),\n",
    "    ToTensor()\n",
    "])"
   ]
  },
  {
   "cell_type": "code",
   "execution_count": 186,
   "metadata": {},
   "outputs": [],
   "source": [
    "train_data = CatDogDataset(train_path_dir, transform=transform)\n",
    "test_data = CatDogDataset(test_path_dir, transform=transform)\n",
    "val_ratio = 0.2\n",
    "\n",
    "# Determine the sizes of the training and validation sets\n",
    "dataset_size = len(train_data)\n",
    "val_size = int(val_ratio * dataset_size)\n",
    "train_size = dataset_size - val_size\n",
    "\n",
    "# Split the dataset into training and validation sets\n",
    "train_dataset, val_dataset = random_split(train_data, [train_size, val_size])\n",
    "\n",
    "# Create data loaders for training and validation sets\n",
    "train_dataloader = DataLoader(train_dataset, batch_size=batch_size, shuffle=True)\n",
    "val_dataloader = DataLoader(val_dataset, batch_size=batch_size, shuffle=False)\n",
    "\n",
    "test_dataloader = DataLoader(test_data, batch_size=batch_size, shuffle=False)"
   ]
  },
  {
   "cell_type": "code",
   "execution_count": 187,
   "metadata": {},
   "outputs": [],
   "source": [
    "\n",
    "## Get the first few images from the dataset\n",
    "#num_images_to_display = 5\n",
    "#sample_images = [train_data[i][0] for i in range(num_images_to_display)]\n",
    "#\n",
    "## Convert the tensor images back to PIL images\n",
    "#pil_images = [transforms.ToPILImage()(image) for image in sample_images]\n",
    "#\n",
    "## Display the resized images\n",
    "#for image in pil_images:\n",
    "#    image.show()"
   ]
  },
  {
   "cell_type": "code",
   "execution_count": 188,
   "metadata": {},
   "outputs": [],
   "source": [
    "class CNNModel(nn.Module):\n",
    "    def __init__(self):\n",
    "        super(CNNModel, self).__init__()\n",
    "\n",
    "        self.conv_layers = nn.Sequential(\n",
    "            nn.Conv2d(3, 16, kernel_size=3, stride=1, padding=1),\n",
    "            nn.ReLU(),\n",
    "            nn.MaxPool2d(kernel_size=2, stride=2),\n",
    "            nn.Conv2d(16, 32, kernel_size=3, stride=1, padding=1),\n",
    "            nn.ReLU(),\n",
    "            nn.MaxPool2d(kernel_size=2, stride=2),\n",
    "            nn.Conv2d(32, 64, kernel_size=3, stride=1, padding=1),\n",
    "            nn.ReLU(),\n",
    "            nn.MaxPool2d(kernel_size=2, stride=2)\n",
    "        )\n",
    "\n",
    "        # Calculate the input size to the fully connected layers based on the image size\n",
    "        self.fc_input_size = 64 * (image_size[0] // 8) * (image_size[1] // 8)\n",
    "\n",
    "        self.fc_layers = nn.Sequential(\n",
    "            nn.Linear(self.fc_input_size, 512),\n",
    "            nn.ReLU(),\n",
    "            nn.Linear(512, 2)\n",
    "        )\n",
    "\n",
    "    def forward(self, x):\n",
    "        x = self.conv_layers(x)\n",
    "        x = x.view(x.size(0), -1)\n",
    "        x = self.fc_layers(x)\n",
    "        return x\n",
    "\n",
    "model = CNNModel().to(device)"
   ]
  },
  {
   "cell_type": "code",
   "execution_count": 189,
   "metadata": {},
   "outputs": [],
   "source": [
    "loss_fn = nn.BCEWithLogitsLoss()\n",
    "optimizer = torch.optim.Adam(model.parameters(), lr=learning_rate)"
   ]
  },
  {
   "cell_type": "code",
   "execution_count": 190,
   "metadata": {},
   "outputs": [],
   "source": [
    "def train_model(model, train_dataloader, loss_fn, optimizer, device):\n",
    "    model.train()\n",
    "    running_loss = 0.0\n",
    "    correct = 0\n",
    "    total = 0\n",
    "    for images, labels in train_dataloader:\n",
    "        images = images.to(device)\n",
    "        labels = labels.to(device)\n",
    "        \n",
    "        # Forward pass\n",
    "        outputs = model(images)\n",
    "        loss = loss_fn(outputs, labels)\n",
    "        \n",
    "        # Backward pass and optimization\n",
    "        optimizer.zero_grad()\n",
    "        loss.backward()\n",
    "        optimizer.step()\n",
    "        \n",
    "    return model\n"
   ]
  },
  {
   "cell_type": "code",
   "execution_count": 191,
   "metadata": {},
   "outputs": [],
   "source": [
    "def test_model(model, val_dataloader, device):\n",
    "    model.eval()\n",
    "    with torch.no_grad():\n",
    "        correct = 0\n",
    "        total = 0\n",
    "        for images, labels in val_dataloader:\n",
    "            images = images.to(device)\n",
    "            labels = labels.to(device)\n",
    "\n",
    "            outputs = model(images)\n",
    "            _, predicted = torch.max(outputs, 1)  # Get the predicted labels\n",
    "\n",
    "            # Convert one-hot encoded labels back to their original format\n",
    "            _, labels = torch.max(labels, 1)\n",
    "\n",
    "            total += labels.size(0)\n",
    "            correct += (predicted == labels).sum().item()\n",
    "\n",
    "    accuracy = 100 * correct / total\n",
    "    return accuracy\n"
   ]
  },
  {
   "cell_type": "code",
   "execution_count": 192,
   "metadata": {},
   "outputs": [
    {
     "name": "stdout",
     "output_type": "stream",
     "text": [
      "Epoch 1\n",
      "-------------------------------\n",
      "Epoch [1/50], Test Accuracy: 66.04%\n",
      "Epoch 2\n",
      "-------------------------------\n",
      "Epoch [2/50], Test Accuracy: 73.64%\n",
      "Epoch 3\n",
      "-------------------------------\n",
      "Epoch [3/50], Test Accuracy: 75.00%\n",
      "Epoch 4\n",
      "-------------------------------\n",
      "Epoch [4/50], Test Accuracy: 77.32%\n",
      "Epoch 5\n",
      "-------------------------------\n",
      "Epoch [5/50], Test Accuracy: 77.64%\n",
      "Epoch 6\n",
      "-------------------------------\n",
      "Epoch [6/50], Test Accuracy: 76.94%\n",
      "Epoch 7\n",
      "-------------------------------\n",
      "Epoch [7/50], Test Accuracy: 76.74%\n",
      "Epoch 8\n",
      "-------------------------------\n",
      "Epoch [8/50], Test Accuracy: 77.34%\n",
      "Epoch 9\n",
      "-------------------------------\n",
      "Epoch [9/50], Test Accuracy: 77.16%\n",
      "Epoch 10\n",
      "-------------------------------\n",
      "Epoch [10/50], Test Accuracy: 78.20%\n",
      "Epoch 11\n",
      "-------------------------------\n",
      "Epoch [11/50], Test Accuracy: 77.52%\n",
      "Epoch 12\n",
      "-------------------------------\n",
      "Epoch [12/50], Test Accuracy: 76.72%\n",
      "Epoch 13\n",
      "-------------------------------\n",
      "Epoch [13/50], Test Accuracy: 77.44%\n",
      "Epoch 14\n",
      "-------------------------------\n",
      "Epoch [14/50], Test Accuracy: 77.30%\n",
      "Epoch 15\n",
      "-------------------------------\n",
      "Epoch [15/50], Test Accuracy: 77.88%\n",
      "Epoch 16\n",
      "-------------------------------\n",
      "Epoch [16/50], Test Accuracy: 77.54%\n",
      "Epoch 17\n",
      "-------------------------------\n",
      "Epoch [17/50], Test Accuracy: 77.64%\n",
      "Epoch 18\n",
      "-------------------------------\n"
     ]
    }
   ],
   "source": [
    "for epoch in range(epochs):\n",
    "    print(f\"Epoch {epoch+1}\\n-------------------------------\")\n",
    "    model = train_model(model, train_dataloader, loss_fn, optimizer, device)\n",
    "    accuracy = test_model(model, val_dataloader, device)\n",
    "    print(f\"Epoch [{epoch+1}/{epochs}], Test Accuracy: {accuracy:.2f}%\")\n",
    "print(\"Done!\")"
   ]
  },
  {
   "cell_type": "code",
   "execution_count": 2,
   "metadata": {},
   "outputs": [
    {
     "ename": "NameError",
     "evalue": "name 'torch' is not defined",
     "output_type": "error",
     "traceback": [
      "\u001b[0;31m---------------------------------------------------------------------------\u001b[0m",
      "\u001b[0;31mNameError\u001b[0m                                 Traceback (most recent call last)",
      "Cell \u001b[0;32mIn[2], line 2\u001b[0m\n\u001b[1;32m      1\u001b[0m model_path \u001b[39m=\u001b[39m \u001b[39m\"\u001b[39m\u001b[39mmodels/daogs-cats-cnn.pth\u001b[39m\u001b[39m\"\u001b[39m\n\u001b[0;32m----> 2\u001b[0m torch\u001b[39m.\u001b[39msave(model\u001b[39m.\u001b[39mstate_dict(), model_path)\n\u001b[1;32m      3\u001b[0m \u001b[39mprint\u001b[39m(\u001b[39mf\u001b[39m\u001b[39m\"\u001b[39m\u001b[39mSaved PyTorch Model State to \u001b[39m\u001b[39m{\u001b[39;00mmodel_path\u001b[39m}\u001b[39;00m\u001b[39m\"\u001b[39m)\n",
      "\u001b[0;31mNameError\u001b[0m: name 'torch' is not defined"
     ]
    }
   ],
   "source": [
    "model_path = \"models/daogs-cats-cnn.pth\"\n",
    "torch.save(model.state_dict(), model_path)\n",
    "print(f\"Saved PyTorch Model State to {model_path}\")"
   ]
  },
  {
   "cell_type": "code",
   "execution_count": null,
   "metadata": {},
   "outputs": [],
   "source": [
    "model = CNNModel().to(device)\n",
    "model.load_state_dict(torch.load(\"model.pth\", map_location=device))"
   ]
  }
 ],
 "metadata": {
  "kernelspec": {
   "display_name": "venv",
   "language": "python",
   "name": "venv"
  },
  "language_info": {
   "codemirror_mode": {
    "name": "ipython",
    "version": 3
   },
   "file_extension": ".py",
   "mimetype": "text/x-python",
   "name": "python",
   "nbconvert_exporter": "python",
   "pygments_lexer": "ipython3",
   "version": "3.10.6"
  },
  "orig_nbformat": 4
 },
 "nbformat": 4,
 "nbformat_minor": 2
}
