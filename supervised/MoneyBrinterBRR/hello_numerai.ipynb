{
  "cells": [
    {
      "cell_type": "markdown",
      "metadata": {
        "id": "oyz6hsJykrKC"
      },
      "source": [
        "# Hello Numerai"
      ]
    },
    {
      "cell_type": "code",
      "execution_count": 4,
      "metadata": {
        "id": "PFuKx9sMkrKK"
      },
      "outputs": [],
      "source": [
        "# Install dependencies\n",
        "!pip install -q numerapi pandas matplotlib lightgbm cloudpickle pyarrow\n",
        "\n",
        "# Inline plots\n",
        "%matplotlib inline"
      ]
    },
    {
      "cell_type": "markdown",
      "metadata": {
        "id": "1AY9ULvikrKL"
      },
      "source": [
        "## 1. Dataset  "
      ]
    },
    {
      "cell_type": "markdown",
      "metadata": {
        "id": "RaKezeItkrKL"
      },
      "source": [
        "Let's see what files are available in the API"
      ]
    },
    {
      "cell_type": "code",
      "execution_count": 5,
      "metadata": {
        "id": "8HQmHAi9krKL",
        "outputId": "b681db01-9c16-46aa-a959-6e56511240cb"
      },
      "outputs": [
        {
          "data": {
            "text/plain": [
              "['v4.1/features.json',\n",
              " 'v4.1/live.parquet',\n",
              " 'v4.1/live_example_preds.csv',\n",
              " 'v4.1/live_example_preds.parquet',\n",
              " 'v4.1/live_int8.parquet',\n",
              " 'v4.1/meta_model.parquet',\n",
              " 'v4.1/train.parquet',\n",
              " 'v4.1/train_int8.parquet',\n",
              " 'v4.1/validation.parquet',\n",
              " 'v4.1/validation_example_preds.csv',\n",
              " 'v4.1/validation_example_preds.parquet',\n",
              " 'v4.1/validation_int8.parquet']"
            ]
          },
          "execution_count": 5,
          "metadata": {},
          "output_type": "execute_result"
        }
      ],
      "source": [
        "# NumerAPI is the official Python API client for Numerai\n",
        "from numerapi import NumerAPI\n",
        "napi = NumerAPI()\n",
        "\n",
        "# v4.1 is the latest version of the dataset\n",
        "[f for f in napi.list_datasets() if f.startswith(\"v4.1\")]"
      ]
    },
    {
      "cell_type": "markdown",
      "metadata": {
        "id": "zHkSigBhkrKM"
      },
      "source": [
        "Let's start by downloading `train.parquet` - the historical training data."
      ]
    },
    {
      "cell_type": "code",
      "execution_count": 6,
      "metadata": {
        "id": "cu-toSkKkrKM",
        "outputId": "fcf6cc03-30d3-4b5c-9563-389b7995ae33"
      },
      "outputs": [
        {
          "name": "stderr",
          "output_type": "stream",
          "text": [
            "2023-07-10 10:10:49,588 INFO numerapi.utils: target file already exists\n",
            "2023-07-10 10:10:49,588 INFO numerapi.utils: download complete\n",
            "2023-07-10 10:10:50,712 INFO numerapi.utils: target file already exists\n",
            "2023-07-10 10:10:50,713 INFO numerapi.utils: download complete\n"
          ]
        },
        {
          "data": {
            "text/html": [
              "<div>\n",
              "<style scoped>\n",
              "    .dataframe tbody tr th:only-of-type {\n",
              "        vertical-align: middle;\n",
              "    }\n",
              "\n",
              "    .dataframe tbody tr th {\n",
              "        vertical-align: top;\n",
              "    }\n",
              "\n",
              "    .dataframe thead th {\n",
              "        text-align: right;\n",
              "    }\n",
              "</style>\n",
              "<table border=\"1\" class=\"dataframe\">\n",
              "  <thead>\n",
              "    <tr style=\"text-align: right;\">\n",
              "      <th></th>\n",
              "      <th>feature_abating_unadaptable_weakfish</th>\n",
              "      <th>feature_ablest_mauritanian_elding</th>\n",
              "      <th>...</th>\n",
              "      <th>feature_yoruban_unapplied_tawse</th>\n",
              "      <th>target</th>\n",
              "    </tr>\n",
              "  </thead>\n",
              "  <tbody>\n",
              "    <tr>\n",
              "      <th>count</th>\n",
              "      <td>2.420521e+06</td>\n",
              "      <td>2.420521e+06</td>\n",
              "      <td>...</td>\n",
              "      <td>2.085311e+06</td>\n",
              "      <td>2.420521e+06</td>\n",
              "    </tr>\n",
              "    <tr>\n",
              "      <th>mean</th>\n",
              "      <td>4.999783e-01</td>\n",
              "      <td>4.999783e-01</td>\n",
              "      <td>...</td>\n",
              "      <td>4.999787e-01</td>\n",
              "      <td>5.000148e-01</td>\n",
              "    </tr>\n",
              "    <tr>\n",
              "      <th>std</th>\n",
              "      <td>3.535955e-01</td>\n",
              "      <td>3.535955e-01</td>\n",
              "      <td>...</td>\n",
              "      <td>3.535926e-01</td>\n",
              "      <td>2.230465e-01</td>\n",
              "    </tr>\n",
              "    <tr>\n",
              "      <th>min</th>\n",
              "      <td>0.000000e+00</td>\n",
              "      <td>0.000000e+00</td>\n",
              "      <td>...</td>\n",
              "      <td>0.000000e+00</td>\n",
              "      <td>0.000000e+00</td>\n",
              "    </tr>\n",
              "    <tr>\n",
              "      <th>25%</th>\n",
              "      <td>2.500000e-01</td>\n",
              "      <td>2.500000e-01</td>\n",
              "      <td>...</td>\n",
              "      <td>2.500000e-01</td>\n",
              "      <td>2.500000e-01</td>\n",
              "    </tr>\n",
              "    <tr>\n",
              "      <th>50%</th>\n",
              "      <td>5.000000e-01</td>\n",
              "      <td>5.000000e-01</td>\n",
              "      <td>...</td>\n",
              "      <td>5.000000e-01</td>\n",
              "      <td>5.000000e-01</td>\n",
              "    </tr>\n",
              "    <tr>\n",
              "      <th>75%</th>\n",
              "      <td>7.500000e-01</td>\n",
              "      <td>7.500000e-01</td>\n",
              "      <td>...</td>\n",
              "      <td>7.500000e-01</td>\n",
              "      <td>5.000000e-01</td>\n",
              "    </tr>\n",
              "    <tr>\n",
              "      <th>max</th>\n",
              "      <td>1.000000e+00</td>\n",
              "      <td>1.000000e+00</td>\n",
              "      <td>...</td>\n",
              "      <td>1.000000e+00</td>\n",
              "      <td>1.000000e+00</td>\n",
              "    </tr>\n",
              "  </tbody>\n",
              "</table>\n",
              "<p>8 rows × 642 columns</p>\n",
              "</div>"
            ],
            "text/plain": [
              "       feature_abating_unadaptable_weakfish  \\\n",
              "count                          2.420521e+06   \n",
              "mean                           4.999783e-01   \n",
              "std                            3.535955e-01   \n",
              "min                            0.000000e+00   \n",
              "25%                            2.500000e-01   \n",
              "50%                            5.000000e-01   \n",
              "75%                            7.500000e-01   \n",
              "max                            1.000000e+00   \n",
              "\n",
              "       feature_ablest_mauritanian_elding  ...  \\\n",
              "count                       2.420521e+06  ...   \n",
              "mean                        4.999783e-01  ...   \n",
              "std                         3.535955e-01  ...   \n",
              "min                         0.000000e+00  ...   \n",
              "25%                         2.500000e-01  ...   \n",
              "50%                         5.000000e-01  ...   \n",
              "75%                         7.500000e-01  ...   \n",
              "max                         1.000000e+00  ...   \n",
              "\n",
              "       feature_yoruban_unapplied_tawse        target  \n",
              "count                     2.085311e+06  2.420521e+06  \n",
              "mean                      4.999787e-01  5.000148e-01  \n",
              "std                       3.535926e-01  2.230465e-01  \n",
              "min                       0.000000e+00  0.000000e+00  \n",
              "25%                       2.500000e-01  2.500000e-01  \n",
              "50%                       5.000000e-01  5.000000e-01  \n",
              "75%                       7.500000e-01  5.000000e-01  \n",
              "max                       1.000000e+00  1.000000e+00  \n",
              "\n",
              "[8 rows x 642 columns]"
            ]
          },
          "execution_count": 6,
          "metadata": {},
          "output_type": "execute_result"
        }
      ],
      "source": [
        "import pandas as pd\n",
        "import json\n",
        "\n",
        "# Download the training data and feature metadata\n",
        "# This will take about 1 minute 🍵\n",
        "napi.download_dataset(\"v4.1/train.parquet\");\n",
        "napi.download_dataset(\"v4.1/features.json\");\n",
        "\n",
        "# In this notebook, we will be using the \"small\" feature set to save time and memory\n",
        "# In practice, you will likely want to use all the features to maximize your model's performance\n",
        "feature_metadata = json.load(open(\"v4.1/features.json\"))\n",
        "feature_cols = feature_metadata[\"feature_sets\"][\"medium\"]\n",
        "\n",
        "# Load the training data but only the \"small\" subset of features\n",
        "training_data = pd.read_parquet(\"v4.1/train.parquet\", columns= [\"era\"] + feature_cols + [\"target\"])\n",
        "\n",
        "# Let's take a look\n",
        "pd.set_option('display.max_rows', 10)\n",
        "pd.set_option('display.max_columns', 5)\n",
        "training_data.describe()"
      ]
    },
    {
      "cell_type": "markdown",
      "metadata": {
        "id": "uOroxzv8krKM"
      },
      "source": [
        "Each row in the dataset corresponds to a stock at a specific point in time, represented by the `era` column.\n",
        "\n",
        "For each `era`, the number of rows is the same as the number of stocks in Numerai's investable universe at that point in time."
      ]
    },
    {
      "cell_type": "code",
      "execution_count": 4,
      "metadata": {
        "id": "H0nPPDkVkrKM",
        "outputId": "5896ca43-00bb-4aac-ff67-2550d1d642af"
      },
      "outputs": [
        {
          "data": {
            "image/png": "[encoded data removed]",
            "text/plain": [
              "<Figure size 500x300 with 1 Axes>"
            ]
          },
          "metadata": {},
          "output_type": "display_data"
        }
      ],
      "source": [
        "# Plot the number of rows per era\n",
        "training_data.groupby(\"era\").size().plot(title=\"Number of Rows per Era\", figsize=(5, 3), xlabel=\"Era\");"
      ]
    },
    {
      "cell_type": "markdown",
      "metadata": {
        "id": "rYj1LitokrKM"
      },
      "source": [
        "The `features` are quantitative attributes (e.g P/E ratio) known about the stocks at the point in time.\n",
        "\n",
        "Feature values are regularized into 5 equal bins between 0 and 1 per era. This heavy regularization is to avoid overfitting as the underlying financial data is extremely noisy."
      ]
    },
    {
      "cell_type": "code",
      "execution_count": 5,
      "metadata": {
        "id": "pnrLMZfEkrKN",
        "outputId": "3ed03505-1003-4eb8-e9d3-a2425ebb18d9"
      },
      "outputs": [
        {
          "data": {
            "image/png": "[encoded data removed]",
            "text/plain": [
              "<Figure size 500x300 with 1 Axes>"
            ]
          },
          "metadata": {},
          "output_type": "display_data"
        }
      ],
      "source": [
        "# Plot density histogram of the first feature\n",
        "training_data[feature_cols[0]].plot(kind=\"hist\", title=feature_cols[0], figsize=(5, 3), xlabel=\"Value\", density=True, bins=50);"
      ]
    },
    {
      "cell_type": "markdown",
      "metadata": {
        "id": "4YbMoZ3lkrKN"
      },
      "source": [
        "The `target` is a measure of stock market returns 20 days into the future. Your task is to predict this value given out of sample features.\n",
        "\n",
        "The target value has also been regularized but into 5 unequal bins. The distribution of target values map to the distribution of returns across the stock market."
      ]
    },
    {
      "cell_type": "code",
      "execution_count": 6,
      "metadata": {
        "id": "FKlcbxN0krKN",
        "outputId": "04a11f59-1b65-4228-cdc9-b3aad495e072"
      },
      "outputs": [
        {
          "data": {
            "image/png": "[encoded data removed]",
            "text/plain": [
              "<Figure size 500x300 with 1 Axes>"
            ]
          },
          "metadata": {},
          "output_type": "display_data"
        }
      ],
      "source": [
        "# Plot density histogram of the target\n",
        "training_data[\"target\"].plot(kind=\"hist\", title=\"Target\", figsize=(5, 3), xlabel=\"Value\", density=True, bins=50);"
      ]
    },
    {
      "cell_type": "markdown",
      "metadata": {
        "id": "LXqh3KuxkrKN"
      },
      "source": [
        "## 2. Modeling\n",
        "Let's train our first model.\n",
        "\n",
        "Here we will be using LGBM but you are free to use any tool or framework of your choice.\n",
        "\n",
        "Learn more about tree based models from our Chief Scientist MDO: https://www.youtube.com/watch?v=w8Y7hY05z7k"
      ]
    },
    {
      "cell_type": "code",
      "execution_count": 7,
      "metadata": {
        "id": "zjv64CorkrKN"
      },
      "outputs": [
        {
          "name": "stderr",
          "output_type": "stream",
          "text": [
            "[LightGBM] [Fatal] Could not open small_lgb.model\n"
          ]
        }
      ],
      "source": [
        "# https://lightgbm.readthedocs.io/en/latest/pythonapi/lightgbm.LGBMRegressor.html\n",
        "import lightgbm as lgb\n",
        "\n",
        "try:\n",
        "  # Load trained model if it exists\n",
        "  model = lgb.Booster(model_file='small_lgb.model');\n",
        "except lgb.basic.LightGBMError:\n",
        "  # Otherwise train and save the model\n",
        "  # This will take about 2 minutes 🍵\n",
        "  model = lgb.LGBMRegressor(\n",
        "    n_estimators=2000,\n",
        "    learning_rate=0.01,\n",
        "    max_depth=5,\n",
        "    num_leaves=2 ** 5,\n",
        "    colsample_bytree=0.1\n",
        "  )\n",
        "  model.fit(\n",
        "    training_data[feature_cols],\n",
        "    training_data[\"target\"]\n",
        "  );\n",
        "  # Save model to disk\n",
        "  model.booster_.save_model(\"small_lgb.model\");"
      ]
    },
    {
      "cell_type": "markdown",
      "metadata": {
        "id": "fRK4snMbkrKN"
      },
      "source": [
        "Now let's evaluate our model's performance on the out of sample validation dataset"
      ]
    },
    {
      "cell_type": "code",
      "execution_count": 8,
      "metadata": {
        "id": "1Ck55QFZkrKN",
        "outputId": "b6e763e7-9687-4d86-a1b2-f2e42614e517"
      },
      "outputs": [
        {
          "name": "stderr",
          "output_type": "stream",
          "text": [
            "2023-07-08 13:58:44,235 INFO numerapi.utils: starting download\n",
            "v4.1/validation.parquet: 1.59GB [01:56, 13.6MB/s]                             \n"
          ]
        },
        {
          "data": {
            "text/html": [
              "<div>\n",
              "<style scoped>\n",
              "    .dataframe tbody tr th:only-of-type {\n",
              "        vertical-align: middle;\n",
              "    }\n",
              "\n",
              "    .dataframe tbody tr th {\n",
              "        vertical-align: top;\n",
              "    }\n",
              "\n",
              "    .dataframe thead th {\n",
              "        text-align: right;\n",
              "    }\n",
              "</style>\n",
              "<table border=\"1\" class=\"dataframe\">\n",
              "  <thead>\n",
              "    <tr style=\"text-align: right;\">\n",
              "      <th></th>\n",
              "      <th>era</th>\n",
              "      <th>prediction</th>\n",
              "      <th>target</th>\n",
              "    </tr>\n",
              "    <tr>\n",
              "      <th>id</th>\n",
              "      <th></th>\n",
              "      <th></th>\n",
              "      <th></th>\n",
              "    </tr>\n",
              "  </thead>\n",
              "  <tbody>\n",
              "    <tr>\n",
              "      <th>n000101811a8a843</th>\n",
              "      <td>0575</td>\n",
              "      <td>0.488841</td>\n",
              "      <td>0.75</td>\n",
              "    </tr>\n",
              "    <tr>\n",
              "      <th>n001e1318d5072ac</th>\n",
              "      <td>0575</td>\n",
              "      <td>0.495411</td>\n",
              "      <td>0.00</td>\n",
              "    </tr>\n",
              "    <tr>\n",
              "      <th>n002a9c5ab785cbb</th>\n",
              "      <td>0575</td>\n",
              "      <td>0.502395</td>\n",
              "      <td>0.50</td>\n",
              "    </tr>\n",
              "    <tr>\n",
              "      <th>n002ccf6d0e8c5ad</th>\n",
              "      <td>0575</td>\n",
              "      <td>0.507658</td>\n",
              "      <td>0.00</td>\n",
              "    </tr>\n",
              "    <tr>\n",
              "      <th>n0051ab821295c29</th>\n",
              "      <td>0575</td>\n",
              "      <td>0.486678</td>\n",
              "      <td>0.50</td>\n",
              "    </tr>\n",
              "    <tr>\n",
              "      <th>...</th>\n",
              "      <td>...</td>\n",
              "      <td>...</td>\n",
              "      <td>...</td>\n",
              "    </tr>\n",
              "    <tr>\n",
              "      <th>nffdf84066bf469b</th>\n",
              "      <td>1064</td>\n",
              "      <td>0.492729</td>\n",
              "      <td>0.25</td>\n",
              "    </tr>\n",
              "    <tr>\n",
              "      <th>nfff12e64e9a6fb6</th>\n",
              "      <td>1064</td>\n",
              "      <td>0.504522</td>\n",
              "      <td>0.50</td>\n",
              "    </tr>\n",
              "    <tr>\n",
              "      <th>nfff134941c033f8</th>\n",
              "      <td>1064</td>\n",
              "      <td>0.488877</td>\n",
              "      <td>0.50</td>\n",
              "    </tr>\n",
              "    <tr>\n",
              "      <th>nfff7011c82355f2</th>\n",
              "      <td>1064</td>\n",
              "      <td>0.486283</td>\n",
              "      <td>0.75</td>\n",
              "    </tr>\n",
              "    <tr>\n",
              "      <th>nfffbd97236fc1ad</th>\n",
              "      <td>1064</td>\n",
              "      <td>0.510591</td>\n",
              "      <td>0.50</td>\n",
              "    </tr>\n",
              "  </tbody>\n",
              "</table>\n",
              "<p>2502034 rows × 3 columns</p>\n",
              "</div>"
            ],
            "text/plain": [
              "                   era  prediction  target\n",
              "id                                        \n",
              "n000101811a8a843  0575    0.488841    0.75\n",
              "n001e1318d5072ac  0575    0.495411    0.00\n",
              "n002a9c5ab785cbb  0575    0.502395    0.50\n",
              "n002ccf6d0e8c5ad  0575    0.507658    0.00\n",
              "n0051ab821295c29  0575    0.486678    0.50\n",
              "...                ...         ...     ...\n",
              "nffdf84066bf469b  1064    0.492729    0.25\n",
              "nfff12e64e9a6fb6  1064    0.504522    0.50\n",
              "nfff134941c033f8  1064    0.488877    0.50\n",
              "nfff7011c82355f2  1064    0.486283    0.75\n",
              "nfffbd97236fc1ad  1064    0.510591    0.50\n",
              "\n",
              "[2502034 rows x 3 columns]"
            ]
          },
          "execution_count": 8,
          "metadata": {},
          "output_type": "execute_result"
        }
      ],
      "source": [
        "# Download validation data\n",
        "# This will take about 2 minutes 🍵\n",
        "napi.download_dataset(\"v4.1/validation.parquet\");\n",
        "\n",
        "# Load the validation data but only the \"small\" subset of features\n",
        "validation_data = pd.read_parquet(\"v4.1/validation.parquet\", columns=[\"era\", \"data_type\"] + feature_cols + [\"target\"])\n",
        "\n",
        "# Filter for data_type == \"validation\"\n",
        "validation_data = validation_data[validation_data[\"data_type\"] == \"validation\"]\n",
        "del validation_data[\"data_type\"]\n",
        "\n",
        "# Generate predictions against the out of sample validation features\n",
        "# This will take about 2 minutes 🍵\n",
        "validation_data[\"prediction\"] = model.predict(validation_data[feature_cols])\n",
        "validation_data[[\"era\", \"prediction\", \"target\"]]"
      ]
    },
    {
      "cell_type": "code",
      "execution_count": 9,
      "metadata": {
        "id": "fI1IkH8lkrKN"
      },
      "outputs": [],
      "source": [
        "from scipy import stats\n",
        "import numpy as np\n",
        "\n",
        "# Numerai's primary scoring metric\n",
        "def numerai_corr(preds, target):\n",
        "    # rank (keeping ties) then gaussianize predictions to standardize prediction distributions\n",
        "    ranked_preds = (preds.rank(method=\"average\").values - 0.5) / preds.count()\n",
        "    gauss_ranked_preds = stats.norm.ppf(ranked_preds)\n",
        "    # center targets around 0\n",
        "    centered_target = target - target.mean()\n",
        "    # raise both preds and target to the power of 1.5 to accentuate the tails\n",
        "    preds_p15 = np.sign(gauss_ranked_preds) * np.abs(gauss_ranked_preds) ** 1.5\n",
        "    target_p15 = np.sign(centered_target) * np.abs(centered_target) ** 1.5\n",
        "    # finally return the Pearson correlation\n",
        "    return np.corrcoef(preds_p15, target_p15)[0, 1]"
      ]
    },
    {
      "cell_type": "code",
      "execution_count": 10,
      "metadata": {
        "id": "U6CI8MnukrKN",
        "outputId": "38f9e905-dfbe-4f23-c503-6e04502eeafe"
      },
      "outputs": [
        {
          "data": {
            "image/png": "[encoded data removed]",
            "text/plain": [
              "<Figure size 1000x600 with 1 Axes>"
            ]
          },
          "metadata": {},
          "output_type": "display_data"
        }
      ],
      "source": [
        "# Compute the per-era correlation between our predictions and the target values\n",
        "per_era_corr = validation_data.groupby(\"era\").apply(lambda x: numerai_corr(x[\"prediction\"], x[\"target\"]))\n",
        "\n",
        "# Plot the per-era correlation\n",
        "per_era_corr.plot(kind=\"bar\", title=\"Validation Correlation\", figsize=(10, 6), xticks=[]);"
      ]
    },
    {
      "cell_type": "code",
      "execution_count": 11,
      "metadata": {
        "id": "Gs5zBTiPkrKO",
        "outputId": "c4bdb099-21e3-4a26-b3a3-f7339bc717a3"
      },
      "outputs": [
        {
          "data": {
            "image/png": "[encoded data removed]",
            "text/plain": [
              "<Figure size 1000x600 with 1 Axes>"
            ]
          },
          "metadata": {},
          "output_type": "display_data"
        }
      ],
      "source": [
        "# Plot the cumulative per-era correlation\n",
        "per_era_corr.cumsum().plot(kind=\"line\", title=\"Cumulative Validation Correlation\", figsize=(10, 6));"
      ]
    },
    {
      "cell_type": "code",
      "execution_count": 12,
      "metadata": {
        "id": "7MN3CPyFkrKO",
        "outputId": "780a998a-df9a-4c2a-c686-b361af522767"
      },
      "outputs": [
        {
          "data": {
            "text/html": [
              "<div>\n",
              "<style scoped>\n",
              "    .dataframe tbody tr th:only-of-type {\n",
              "        vertical-align: middle;\n",
              "    }\n",
              "\n",
              "    .dataframe tbody tr th {\n",
              "        vertical-align: top;\n",
              "    }\n",
              "\n",
              "    .dataframe thead th {\n",
              "        text-align: right;\n",
              "    }\n",
              "</style>\n",
              "<table border=\"1\" class=\"dataframe\">\n",
              "  <thead>\n",
              "    <tr style=\"text-align: right;\">\n",
              "      <th></th>\n",
              "      <th>Value</th>\n",
              "    </tr>\n",
              "  </thead>\n",
              "  <tbody>\n",
              "    <tr>\n",
              "      <th>Mean</th>\n",
              "      <td>0.015871</td>\n",
              "    </tr>\n",
              "    <tr>\n",
              "      <th>Standard Deviation</th>\n",
              "      <td>0.021359</td>\n",
              "    </tr>\n",
              "    <tr>\n",
              "      <th>Sharpe Ratio</th>\n",
              "      <td>0.743028</td>\n",
              "    </tr>\n",
              "    <tr>\n",
              "      <th>Max Drawdown</th>\n",
              "      <td>-0.342537</td>\n",
              "    </tr>\n",
              "  </tbody>\n",
              "</table>\n",
              "</div>"
            ],
            "text/plain": [
              "                       Value\n",
              "Mean                0.015871\n",
              "Standard Deviation  0.021359\n",
              "Sharpe Ratio        0.743028\n",
              "Max Drawdown       -0.342537"
            ]
          },
          "execution_count": 12,
          "metadata": {},
          "output_type": "execute_result"
        }
      ],
      "source": [
        "# compute performance metrics\n",
        "corr_mean = per_era_corr.mean()\n",
        "corr_std = per_era_corr.std(ddof=0)\n",
        "corr_sharpe = corr_mean / corr_std\n",
        "max_drawdown = -(per_era_corr.cumsum().expanding(min_periods=1).max() - per_era_corr.cumsum()).max()\n",
        "\n",
        "pd.DataFrame({\n",
        "    \"Mean\": corr_mean,\n",
        "    \"Standard Deviation\": corr_std,\n",
        "    \"Sharpe Ratio\": corr_sharpe,\n",
        "    \"Max Drawdown\": max_drawdown\n",
        "}, index=[\"Value\"]).T"
      ]
    },
    {
      "cell_type": "markdown",
      "metadata": {
        "id": "h0okb_x_krKO"
      },
      "source": [
        "`Mean` correlation is the primary measure of your model's performance. An mean correlation above 0.02 is considered good.\n",
        "\n",
        "`Sharpe` is a measure of your model's consistency, a concept borrowed from finance where it usually refers to risk adjusted returns of an investment strategy. In Numerai, we compute sharpe as the average correlation divided by the standard deviation of correlations. A sharpe above 1 is considered good.\n",
        "\n",
        "`Max drawdown` is a measure of your model's risk, another concept borrowed from finance where it usually refers to the maximum financial loss suffered by an investment strategy. In Numerai, we compute max drawdown as the maximum peak to trough drop in cumulative validation correlation. A max drawdown below 0.1 in magnitude is considered good."
      ]
    },
    {
      "cell_type": "markdown",
      "metadata": {
        "id": "1NfxkO6skrKO"
      },
      "source": [
        "## 3. Submissions\n",
        "Unlike Kaggle competitions where models are often evaluated based on their performance on a hold out test set, Numerai evaluates models based on their <ins>live performance</ins> in the real stock market.\n",
        "\n",
        "Every Tuesday-Saturday, a new live era of features is released, representing the current state of the stock market. Your task is to use the live features to generate live predictions and submit them to Numerai."
      ]
    },
    {
      "cell_type": "code",
      "execution_count": 13,
      "metadata": {
        "id": "D2Jl6SlMkrKO",
        "outputId": "918ae360-aa01-4953-9b99-55653cc1b3fc"
      },
      "outputs": [
        {
          "name": "stderr",
          "output_type": "stream",
          "text": [
            "2023-07-08 14:01:04,427 INFO numerapi.utils: starting download\n",
            "v4/live_523.parquet: 3.38MB [00:01, 2.57MB/s]                            \n"
          ]
        },
        {
          "data": {
            "text/html": [
              "<div>\n",
              "<style scoped>\n",
              "    .dataframe tbody tr th:only-of-type {\n",
              "        vertical-align: middle;\n",
              "    }\n",
              "\n",
              "    .dataframe tbody tr th {\n",
              "        vertical-align: top;\n",
              "    }\n",
              "\n",
              "    .dataframe thead th {\n",
              "        text-align: right;\n",
              "    }\n",
              "</style>\n",
              "<table border=\"1\" class=\"dataframe\">\n",
              "  <thead>\n",
              "    <tr style=\"text-align: right;\">\n",
              "      <th></th>\n",
              "      <th>prediction</th>\n",
              "    </tr>\n",
              "    <tr>\n",
              "      <th>id</th>\n",
              "      <th></th>\n",
              "    </tr>\n",
              "  </thead>\n",
              "  <tbody>\n",
              "    <tr>\n",
              "      <th>n001c25a620fca93</th>\n",
              "      <td>0.496357</td>\n",
              "    </tr>\n",
              "    <tr>\n",
              "      <th>n003b4b75ba8b318</th>\n",
              "      <td>0.497495</td>\n",
              "    </tr>\n",
              "    <tr>\n",
              "      <th>n0050ad62806f08f</th>\n",
              "      <td>0.492622</td>\n",
              "    </tr>\n",
              "    <tr>\n",
              "      <th>n006b94c09b1ceff</th>\n",
              "      <td>0.501591</td>\n",
              "    </tr>\n",
              "    <tr>\n",
              "      <th>n006c90e14908b26</th>\n",
              "      <td>0.517594</td>\n",
              "    </tr>\n",
              "    <tr>\n",
              "      <th>...</th>\n",
              "      <td>...</td>\n",
              "    </tr>\n",
              "    <tr>\n",
              "      <th>nffdc1f4dee6afd5</th>\n",
              "      <td>0.494230</td>\n",
              "    </tr>\n",
              "    <tr>\n",
              "      <th>nffe0cfbd4e2363d</th>\n",
              "      <td>0.499913</td>\n",
              "    </tr>\n",
              "    <tr>\n",
              "      <th>nffee106359ae1ae</th>\n",
              "      <td>0.491996</td>\n",
              "    </tr>\n",
              "    <tr>\n",
              "      <th>nfffc18ed23917fc</th>\n",
              "      <td>0.492928</td>\n",
              "    </tr>\n",
              "    <tr>\n",
              "      <th>nfffe9078c7836b1</th>\n",
              "      <td>0.506951</td>\n",
              "    </tr>\n",
              "  </tbody>\n",
              "</table>\n",
              "<p>4942 rows × 1 columns</p>\n",
              "</div>"
            ],
            "text/plain": [
              "                  prediction\n",
              "id                          \n",
              "n001c25a620fca93    0.496357\n",
              "n003b4b75ba8b318    0.497495\n",
              "n0050ad62806f08f    0.492622\n",
              "n006b94c09b1ceff    0.501591\n",
              "n006c90e14908b26    0.517594\n",
              "...                      ...\n",
              "nffdc1f4dee6afd5    0.494230\n",
              "nffe0cfbd4e2363d    0.499913\n",
              "nffee106359ae1ae    0.491996\n",
              "nfffc18ed23917fc    0.492928\n",
              "nfffe9078c7836b1    0.506951\n",
              "\n",
              "[4942 rows x 1 columns]"
            ]
          },
          "execution_count": 13,
          "metadata": {},
          "output_type": "execute_result"
        }
      ],
      "source": [
        "# Check the current round number\n",
        "current_round_number = napi.get_current_round()\n",
        "\n",
        "# Download latest live features for the current round number\n",
        "napi.download_dataset(\"v4/live.parquet\", f\"v4/live_{current_round_number}.parquet\")\n",
        "\n",
        "# Load live features\n",
        "live_features = pd.read_parquet(f\"v4/live_{current_round_number}.parquet\", columns=feature_cols)\n",
        "\n",
        "# Generate live predictions with our trained model\n",
        "live_predictions = model.predict(live_features[feature_cols])\n",
        "\n",
        "# Format submission\n",
        "submission = pd.Series(live_predictions, index=live_features.index).to_frame(\"prediction\")\n",
        "submission"
      ]
    },
    {
      "cell_type": "markdown",
      "metadata": {
        "id": "weujLvEBkrKO"
      },
      "source": [
        "The simplest way to automate this daily process is to upload your model to Numerai and let Numerai take care of running it daily to generate live predictions.\n",
        "\n",
        "You can also host your own model if you prefer, see our [docs](https://docs.numer.ai/numerai-tournament/submissions#automation) for more advanced examples."
      ]
    },
    {
      "cell_type": "code",
      "execution_count": 14,
      "metadata": {
        "id": "yDFkTwKRkrKO"
      },
      "outputs": [],
      "source": [
        "# Wrap your model with a function that takes live features and returns live predictions\n",
        "def predict(live_features: pd.DataFrame) -> pd.DataFrame:\n",
        "    live_predictions = model.predict(live_features[feature_cols])\n",
        "    submission = pd.Series(live_predictions, index=live_features.index)\n",
        "    return submission.to_frame(\"prediction\")"
      ]
    },
    {
      "cell_type": "code",
      "execution_count": 15,
      "metadata": {
        "id": "cur6zJ5EkrKO",
        "outputId": "7fcb9253-d3a0-427f-c2e6-2073b392661a"
      },
      "outputs": [
        {
          "data": {
            "text/html": [
              "<div>\n",
              "<style scoped>\n",
              "    .dataframe tbody tr th:only-of-type {\n",
              "        vertical-align: middle;\n",
              "    }\n",
              "\n",
              "    .dataframe tbody tr th {\n",
              "        vertical-align: top;\n",
              "    }\n",
              "\n",
              "    .dataframe thead th {\n",
              "        text-align: right;\n",
              "    }\n",
              "</style>\n",
              "<table border=\"1\" class=\"dataframe\">\n",
              "  <thead>\n",
              "    <tr style=\"text-align: right;\">\n",
              "      <th></th>\n",
              "      <th>prediction</th>\n",
              "    </tr>\n",
              "    <tr>\n",
              "      <th>id</th>\n",
              "      <th></th>\n",
              "    </tr>\n",
              "  </thead>\n",
              "  <tbody>\n",
              "    <tr>\n",
              "      <th>n001c25a620fca93</th>\n",
              "      <td>0.496357</td>\n",
              "    </tr>\n",
              "    <tr>\n",
              "      <th>n003b4b75ba8b318</th>\n",
              "      <td>0.497495</td>\n",
              "    </tr>\n",
              "    <tr>\n",
              "      <th>n0050ad62806f08f</th>\n",
              "      <td>0.492622</td>\n",
              "    </tr>\n",
              "    <tr>\n",
              "      <th>n006b94c09b1ceff</th>\n",
              "      <td>0.501591</td>\n",
              "    </tr>\n",
              "    <tr>\n",
              "      <th>n006c90e14908b26</th>\n",
              "      <td>0.517594</td>\n",
              "    </tr>\n",
              "    <tr>\n",
              "      <th>...</th>\n",
              "      <td>...</td>\n",
              "    </tr>\n",
              "    <tr>\n",
              "      <th>nffdc1f4dee6afd5</th>\n",
              "      <td>0.494230</td>\n",
              "    </tr>\n",
              "    <tr>\n",
              "      <th>nffe0cfbd4e2363d</th>\n",
              "      <td>0.499913</td>\n",
              "    </tr>\n",
              "    <tr>\n",
              "      <th>nffee106359ae1ae</th>\n",
              "      <td>0.491996</td>\n",
              "    </tr>\n",
              "    <tr>\n",
              "      <th>nfffc18ed23917fc</th>\n",
              "      <td>0.492928</td>\n",
              "    </tr>\n",
              "    <tr>\n",
              "      <th>nfffe9078c7836b1</th>\n",
              "      <td>0.506951</td>\n",
              "    </tr>\n",
              "  </tbody>\n",
              "</table>\n",
              "<p>4942 rows × 1 columns</p>\n",
              "</div>"
            ],
            "text/plain": [
              "                  prediction\n",
              "id                          \n",
              "n001c25a620fca93    0.496357\n",
              "n003b4b75ba8b318    0.497495\n",
              "n0050ad62806f08f    0.492622\n",
              "n006b94c09b1ceff    0.501591\n",
              "n006c90e14908b26    0.517594\n",
              "...                      ...\n",
              "nffdc1f4dee6afd5    0.494230\n",
              "nffe0cfbd4e2363d    0.499913\n",
              "nffee106359ae1ae    0.491996\n",
              "nfffc18ed23917fc    0.492928\n",
              "nfffe9078c7836b1    0.506951\n",
              "\n",
              "[4942 rows x 1 columns]"
            ]
          },
          "execution_count": 15,
          "metadata": {},
          "output_type": "execute_result"
        }
      ],
      "source": [
        "# Quick test\n",
        "predict(live_features)"
      ]
    },
    {
      "cell_type": "code",
      "execution_count": 16,
      "metadata": {
        "id": "tZXcbd1tkrKO"
      },
      "outputs": [],
      "source": [
        "# Use the cloudpickle library to serialize your function\n",
        "import cloudpickle\n",
        "p = cloudpickle.dumps(predict)\n",
        "with open(\"predict.pkl\", \"wb\") as f:\n",
        "    f.write(p)"
      ]
    },
    {
      "cell_type": "code",
      "execution_count": 17,
      "metadata": {
        "id": "SXbvoenYkrKO"
      },
      "outputs": [],
      "source": [
        "# Download file if running in Google Colab\n",
        "try:\n",
        "    from google.colab import files\n",
        "    files.download('predict.pkl')\n",
        "except:\n",
        "    pass"
      ]
    },
    {
      "cell_type": "markdown",
      "metadata": {
        "id": "a6UOaBpRkrKO"
      },
      "source": [
        "That's it! Now head back to [numer.ai](https://numer.ai/tutorial/hello-numerai) to upload your model!"
      ]
    }
  ],
  "metadata": {
    "colab": {
      "provenance": []
    },
    "kernelspec": {
      "display_name": "venv",
      "language": "python",
      "name": "venv"
    },
    "language_info": {
      "codemirror_mode": {
        "name": "ipython",
        "version": 3
      },
      "file_extension": ".py",
      "mimetype": "text/x-python",
      "name": "python",
      "nbconvert_exporter": "python",
      "pygments_lexer": "ipython3",
      "version": "3.10.6"
    }
  },
  "nbformat": 4,
  "nbformat_minor": 0
}
