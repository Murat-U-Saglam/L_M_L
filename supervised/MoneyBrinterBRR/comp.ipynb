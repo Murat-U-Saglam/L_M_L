{
 "cells": [
  {
   "cell_type": "code",
   "execution_count": 1,
   "metadata": {},
   "outputs": [],
   "source": [
    "import numerapi \n",
    "from dotenv import dotenv_values\n",
    "import pandas as pd"
   ]
  },
  {
   "cell_type": "code",
   "execution_count": 2,
   "metadata": {},
   "outputs": [
    {
     "name": "stderr",
     "output_type": "stream",
     "text": [
      "2023-07-09 14:04:51,319 ERROR numerapi.base_api: the requested file does not exist\n"
     ]
    },
    {
     "ename": "ValueError",
     "evalue": "the requested file does not exist",
     "output_type": "error",
     "traceback": [
      "\u001b[0;31m---------------------------------------------------------------------------\u001b[0m",
      "\u001b[0;31mValueError\u001b[0m                                Traceback (most recent call last)",
      "Cell \u001b[0;32mIn[2], line 9\u001b[0m\n\u001b[1;32m      6\u001b[0m current_round \u001b[39m=\u001b[39m napi\u001b[39m.\u001b[39mget_current_round()\n\u001b[1;32m      8\u001b[0m \u001b[39m# Download latest live features\u001b[39;00m\n\u001b[0;32m----> 9\u001b[0m napi\u001b[39m.\u001b[39;49mdownload_dataset(\u001b[39mf\u001b[39;49m\u001b[39m\"\u001b[39;49m\u001b[39mv4.1/live_\u001b[39;49m\u001b[39m{\u001b[39;49;00mcurrent_round\u001b[39m}\u001b[39;49;00m\u001b[39m.parquet\u001b[39;49m\u001b[39m\"\u001b[39;49m)\n\u001b[1;32m     10\u001b[0m live_data \u001b[39m=\u001b[39m pd\u001b[39m.\u001b[39mread_parquet(\u001b[39mf\u001b[39m\u001b[39m\"\u001b[39m\u001b[39mv4.1/live_\u001b[39m\u001b[39m{\u001b[39;00mcurrent_round\u001b[39m}\u001b[39;00m\u001b[39m.parquet\u001b[39m\u001b[39m\"\u001b[39m)\n\u001b[1;32m     11\u001b[0m live_features \u001b[39m=\u001b[39m live_data[[f \u001b[39mfor\u001b[39;00m f \u001b[39min\u001b[39;00m live_data\u001b[39m.\u001b[39mcolumns \u001b[39mif\u001b[39;00m \u001b[39m\"\u001b[39m\u001b[39mfeature\u001b[39m\u001b[39m\"\u001b[39m \u001b[39min\u001b[39;00m f]]\n",
      "File \u001b[0;32m~/Desktop/ML-Stuff/venv/lib/python3.10/site-packages/numerapi/numerapi.py:113\u001b[0m, in \u001b[0;36mNumerAPI.download_dataset\u001b[0;34m(self, filename, dest_path, round_num)\u001b[0m\n\u001b[1;32m    104\u001b[0m query \u001b[39m=\u001b[39m \u001b[39m\"\"\"\u001b[39m\n\u001b[1;32m    105\u001b[0m \u001b[39mquery ($filename: String!\u001b[39m\n\u001b[1;32m    106\u001b[0m \u001b[39m       $round: Int) \u001b[39m\u001b[39m{\u001b[39m\n\u001b[0;32m   (...)\u001b[0m\n\u001b[1;32m    109\u001b[0m \u001b[39m}\u001b[39m\n\u001b[1;32m    110\u001b[0m \u001b[39m\u001b[39m\u001b[39m\"\"\"\u001b[39m\n\u001b[1;32m    111\u001b[0m args \u001b[39m=\u001b[39m {\u001b[39m'\u001b[39m\u001b[39mfilename\u001b[39m\u001b[39m'\u001b[39m: filename, \u001b[39m\"\u001b[39m\u001b[39mround\u001b[39m\u001b[39m\"\u001b[39m: round_num}\n\u001b[0;32m--> 113\u001b[0m dataset_url \u001b[39m=\u001b[39m \u001b[39mself\u001b[39;49m\u001b[39m.\u001b[39;49mraw_query(query, args)[\u001b[39m'\u001b[39m\u001b[39mdata\u001b[39m\u001b[39m'\u001b[39m][\u001b[39m'\u001b[39m\u001b[39mdataset\u001b[39m\u001b[39m'\u001b[39m]\n\u001b[1;32m    114\u001b[0m utils\u001b[39m.\u001b[39mdownload_file(dataset_url, dest_path, \u001b[39mself\u001b[39m\u001b[39m.\u001b[39mshow_progress_bars)\n\u001b[1;32m    115\u001b[0m \u001b[39mreturn\u001b[39;00m dest_path\n",
      "File \u001b[0;32m~/Desktop/ML-Stuff/venv/lib/python3.10/site-packages/numerapi/base_api.py:133\u001b[0m, in \u001b[0;36mApi.raw_query\u001b[0;34m(self, query, variables, authorization, retries, delay, backoff)\u001b[0m\n\u001b[1;32m    131\u001b[0m     err \u001b[39m=\u001b[39m \u001b[39mself\u001b[39m\u001b[39m.\u001b[39m_handle_call_error(result[\u001b[39m'\u001b[39m\u001b[39merrors\u001b[39m\u001b[39m'\u001b[39m])\n\u001b[1;32m    132\u001b[0m     \u001b[39m# fail!\u001b[39;00m\n\u001b[0;32m--> 133\u001b[0m     \u001b[39mraise\u001b[39;00m \u001b[39mValueError\u001b[39;00m(err)\n\u001b[1;32m    134\u001b[0m \u001b[39mreturn\u001b[39;00m result\n",
      "\u001b[0;31mValueError\u001b[0m: the requested file does not exist"
     ]
    }
   ],
   "source": [
    "# Authenticate\n",
    "env_vars = dotenv_values('.env')\n",
    "napi = numerapi.NumerAPI(env_vars['PUBLIC_ID'], env_vars['PRIVATE_KEY'])\n",
    "\n",
    "# Get current round\n",
    "current_round = napi.get_current_round()\n",
    "\n",
    "# Download latest live features\n",
    "napi.download_dataset(f\"v4.1/live_{current_round}.parquet\")\n",
    "live_data = pd.read_parquet(f\"v4.1/live_{current_round}.parquet\")\n",
    "live_features = live_data[[f for f in live_data.columns if \"feature\" in f]]\n",
    "\n",
    "# Generate live predictions\n",
    "live_predictions = model.predict(live_features)\n",
    "\n",
    "# Format submission\n",
    "submission = pd.Series(live_predictions, index=live_features.index).to_frame(\"prediction\")\n",
    "submission.to_csv(f\"prediction_{current_round}.csv\")\n",
    "\n",
    "# Upload submission \n",
    "napi.upload_predictions(f\"prediction_{current_round}.csv\", model_id=\"your-model-id\")"
   ]
  }
 ],
 "metadata": {
  "kernelspec": {
   "display_name": "venv",
   "language": "python",
   "name": "venv"
  },
  "language_info": {
   "codemirror_mode": {
    "name": "ipython",
    "version": 3
   },
   "file_extension": ".py",
   "mimetype": "text/x-python",
   "name": "python",
   "nbconvert_exporter": "python",
   "pygments_lexer": "ipython3",
   "version": "3.10.6"
  },
  "orig_nbformat": 4
 },
 "nbformat": 4,
 "nbformat_minor": 2
}
