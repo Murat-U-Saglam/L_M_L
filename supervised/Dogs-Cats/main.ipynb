{
 "cells": [
  {
   "cell_type": "code",
   "execution_count": 5,
   "metadata": {},
   "outputs": [],
   "source": [
    "import torch\n",
    "import os\n",
    "from torch import nn\n",
    "from torch.utils.data import DataLoader,  Subset, random_split, Dataset\n",
    "from torchvision import transforms\n",
    "from torchvision.transforms import ToTensor, Resize\n",
    "from PIL import Image\n",
    "import glob"
   ]
  },
  {
   "cell_type": "code",
   "execution_count": 6,
   "metadata": {},
   "outputs": [
    {
     "name": "stdout",
     "output_type": "stream",
     "text": [
      "True\n",
      "Using cuda device\n"
     ]
    }
   ],
   "source": [
    "device = 'cuda' if torch.cuda.is_available() else 'cpu'\n",
    "print(torch.cuda.is_available())\n",
    "print(f\"Using {device} device\")"
   ]
  },
  {
   "cell_type": "code",
   "execution_count": 7,
   "metadata": {},
   "outputs": [],
   "source": [
    "class CatDogDataset(Dataset):\n",
    "    def __init__(self, root_dir, transform=None):\n",
    "        self.root_dir = root_dir\n",
    "        self.transform = transform\n",
    "        self.file_list = os.listdir(root_dir)\n",
    "\n",
    "    def __len__(self):\n",
    "        return len(self.file_list)\n",
    "\n",
    "    def __getitem__(self, idx):\n",
    "        img_name = self.file_list[idx]\n",
    "        img_path = os.path.join(self.root_dir, img_name)\n",
    "        image = Image.open(img_path).convert('RGB')\n",
    "\n",
    "        if self.transform is not None:\n",
    "            image = self.transform(image)\n",
    "\n",
    "        label = str.split(img_name, '.')[0]  # Convert label to integer\n",
    "        if label == \"dog\":\n",
    "            label = torch.tensor([1, 0])  # One-hot encode as [1, 0] for dog\n",
    "        elif label == \"cat\":\n",
    "            label = torch.tensor([0, 1])  # One-hot encode as [0, 1] for cat\n",
    "        \n",
    "        try:\n",
    "            return image, label.float()\n",
    "        except Exception as e:\n",
    "            print(e)\n",
    "            print(img_name, label)\n",
    "            breakpoint()        "
   ]
  },
  {
   "cell_type": "code",
   "execution_count": 8,
   "metadata": {},
   "outputs": [],
   "source": [
    "train_path_dir = 'data/train'\n",
    "test_path_dir = 'data/test1'\n",
    "\n",
    "batch_size=64\n",
    "image_size = (256, 256)  # Specify the desired image size\n",
    "learning_rate = 1e-3\n",
    "epochs = 300\n",
    "val_ratio = 0.2\n",
    "\n",
    "transform = transforms.Compose([\n",
    "    Resize(image_size),\n",
    "    ToTensor()\n",
    "])"
   ]
  },
  {
   "cell_type": "code",
   "execution_count": 9,
   "metadata": {},
   "outputs": [],
   "source": [
    "train_data = CatDogDataset(train_path_dir, transform=transform)\n",
    "test_data = CatDogDataset(test_path_dir, transform=transform)\n",
    "val_ratio = 0.2\n",
    "\n",
    "# Determine the sizes of the training and validation sets\n",
    "dataset_size = len(train_data)\n",
    "val_size = int(val_ratio * dataset_size)\n",
    "train_size = dataset_size - val_size\n",
    "\n",
    "# Split the dataset into training and validation sets\n",
    "train_dataset, val_dataset = random_split(train_data, [train_size, val_size])\n",
    "\n",
    "# Create data loaders for training and validation sets\n",
    "train_dataloader = DataLoader(train_dataset, batch_size=batch_size, shuffle=True)\n",
    "val_dataloader = DataLoader(val_dataset, batch_size=batch_size, shuffle=False)\n",
    "test_dataloader = DataLoader(test_data, batch_size=batch_size, shuffle=False)"
   ]
  },
  {
   "cell_type": "code",
   "execution_count": 10,
   "metadata": {},
   "outputs": [],
   "source": [
    "class CNNModel(nn.Module):\n",
    "    def __init__(self):\n",
    "        super(CNNModel, self).__init__()\n",
    "\n",
    "        self.conv_layers = nn.Sequential(\n",
    "            nn.Conv2d(3, 16, kernel_size=3, stride=1, padding=1),\n",
    "            nn.ReLU(),\n",
    "            nn.MaxPool2d(kernel_size=2, stride=2),\n",
    "            nn.Conv2d(16, 32, kernel_size=3, stride=1, padding=1),\n",
    "            nn.ReLU(),\n",
    "            nn.MaxPool2d(kernel_size=2, stride=2),\n",
    "            nn.Conv2d(32, 64, kernel_size=3, stride=1, padding=1),\n",
    "            nn.ReLU(),\n",
    "            nn.MaxPool2d(kernel_size=2, stride=2)\n",
    "        )\n",
    "\n",
    "        # Calculate the input size to the fully connected layers based on the image size\n",
    "        self.fc_input_size = 64 * (image_size[0] // 8) * (image_size[1] // 8)\n",
    "\n",
    "        self.fc_layers = nn.Sequential(\n",
    "            nn.Linear(self.fc_input_size, 512),\n",
    "            nn.ReLU(),\n",
    "            nn.Linear(512, 2)\n",
    "        )\n",
    "\n",
    "    def forward(self, x):\n",
    "        x = self.conv_layers(x)\n",
    "        x = x.view(x.size(0), -1)\n",
    "        x = self.fc_layers(x)\n",
    "        return x\n",
    "\n",
    "model = CNNModel().to(device)"
   ]
  },
  {
   "cell_type": "code",
   "execution_count": 11,
   "metadata": {},
   "outputs": [],
   "source": [
    "loss_fn = nn.BCEWithLogitsLoss()\n",
    "optimizer = torch.optim.Adam(model.parameters(), lr=learning_rate)"
   ]
  },
  {
   "cell_type": "code",
   "execution_count": 12,
   "metadata": {},
   "outputs": [],
   "source": [
    "def train_model(model, train_dataloader, loss_fn, optimizer, device):\n",
    "    model.train()\n",
    "    running_loss = 0.0\n",
    "    correct = 0\n",
    "    total = 0\n",
    "    for images, labels in train_dataloader:\n",
    "        print(images.is_cuda, labels.is_cuda)\n",
    "        images = images.to(device)\n",
    "        labels = labels.to(device)\n",
    "        print(images.is_cuda, labels.is_cuda)\n",
    "        \n",
    "        # Forward pass\n",
    "        outputs = model(images)\n",
    "        loss = loss_fn(outputs, labels)\n",
    "        \n",
    "        # Backward pass and optimization\n",
    "        optimizer.zero_grad()\n",
    "        loss.backward()\n",
    "        optimizer.step()\n",
    "        \n",
    "    return model\n"
   ]
  },
  {
   "cell_type": "code",
   "execution_count": 13,
   "metadata": {},
   "outputs": [],
   "source": [
    "def test_model(model, val_dataloader, device):\n",
    "    model.eval()\n",
    "    with torch.no_grad():\n",
    "        correct = 0\n",
    "        total = 0\n",
    "        for images, labels in val_dataloader:\n",
    "            images = images.to(device)\n",
    "            labels = labels.to(device)\n",
    "\n",
    "            outputs = model(images)\n",
    "            _, predicted = torch.max(outputs, 1)  # Get the predicted labels\n",
    "\n",
    "            # Convert one-hot encoded labels back to their original format\n",
    "            _, labels = torch.max(labels, 1)\n",
    "\n",
    "            total += labels.size(0)\n",
    "            correct += (predicted == labels).sum().item()\n",
    "\n",
    "    accuracy = 100 * correct / total\n",
    "    return accuracy\n"
   ]
  },
  {
   "cell_type": "code",
   "execution_count": 14,
   "metadata": {},
   "outputs": [],
   "source": [
    "def test_highest_accuracy_model(accuracy):\n",
    "    model_path = f\"../models/dogs-cats/dogs-cats-cnn.pth-accurracy-{accuracy:.2f}\"\n",
    "    filenames = os.listdir('../models/dogs-cats')\n",
    "    highest_accuracy = max([float(str.split(filename, '-')[-1]) for filename in filenames])\n",
    "    filepath_with_highest_accuracy = f\"../models/dogs-cats/dogs-cats-cnn.pth-accurracy-{highest_accuracy}\"\n",
    "    if accuracy > highest_accuracy:\n",
    "        torch.save(model.state_dict(), model_path)\n",
    "        print(f\"Saved model to {model_path}\")\n",
    "        #delete previous model\n",
    "        os.remove(filepath_with_highest_accuracy) "
   ]
  },
  {
   "cell_type": "code",
   "execution_count": 15,
   "metadata": {},
   "outputs": [
    {
     "ename": "",
     "evalue": "",
     "output_type": "error",
     "traceback": [
      "\u001b[1;31mCanceled future for execute_request message before replies were done"
     ]
    },
    {
     "ename": "",
     "evalue": "",
     "output_type": "error",
     "traceback": [
      "\u001b[1;31mThe Kernel crashed while executing code in the the current cell or a previous cell. Please review the code in the cell(s) to identify a possible cause of the failure. Click <a href='https://aka.ms/vscodeJupyterKernelCrash'>here</a> for more info. View Jupyter <a href='command:jupyter.viewOutput'>log</a> for further details."
     ]
    }
   ],
   "source": [
    "for epoch in range(epochs):\n",
    "    print(f\"Epoch {epoch+1}\\n-------------------------------\")\n",
    "    model = train_model(model, train_dataloader, loss_fn, optimizer, device)\n",
    "    accuracy = test_model(model, val_dataloader, device)\n",
    "    test_highest_accuracy_model(accuracy)\n",
    "    print(f\"Epoch [{epoch+1}/{epochs}], Test Accuracy: {accuracy:.2f}%\")\n",
    "print(\"Done!\")"
   ]
  },
  {
   "cell_type": "code",
   "execution_count": null,
   "metadata": {},
   "outputs": [],
   "source": [
    "model_path = f\"/models/dogs-cats/dogs-cats-cnn.pth-accurracy-{accuracy:.2f}\"\n",
    "torch.save(model.state_dict(), model_path)\n",
    "print(f\"Saved PyTorch Model State to {model_path}\")"
   ]
  },
  {
   "cell_type": "code",
   "execution_count": null,
   "metadata": {},
   "outputs": [],
   "source": [
    "model = CNNModel().to(device)\n",
    "filenames = os.listdir('../models/dogs-cats')\n",
    "highest_accuracy = max([float(str.split(filename, '-')[-1]) for filename in filenames])\n",
    "filepath_with_highest_accuracy = f\"../models/dogs-cats/dogs-cats-cnn.pth-accurracy-{highest_accuracy}\"\n",
    "model.load_state_dict(torch.load(filepath_with_highest_accuracy, map_location=device))"
   ]
  }
 ],
 "metadata": {
  "kernelspec": {
   "display_name": "venv",
   "language": "python",
   "name": "venv"
  },
  "language_info": {
   "codemirror_mode": {
    "name": "ipython",
    "version": 3
   },
   "file_extension": ".py",
   "mimetype": "text/x-python",
   "name": "python",
   "nbconvert_exporter": "python",
   "pygments_lexer": "ipython3",
   "version": "3.10.6"
  },
  "orig_nbformat": 4
 },
 "nbformat": 4,
 "nbformat_minor": 2
}
